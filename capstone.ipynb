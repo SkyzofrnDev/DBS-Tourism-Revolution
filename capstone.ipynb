{
  "nbformat": 4,
  "nbformat_minor": 0,
  "metadata": {
    "colab": {
      "provenance": [],
      "gpuType": "T4"
    },
    "kernelspec": {
      "name": "python3",
      "display_name": "Python 3"
    },
    "language_info": {
      "name": "python"
    },
    "accelerator": "GPU"
  },
  "cells": [
    {
      "cell_type": "code",
      "execution_count": 1,
      "metadata": {
        "id": "9Kf4BBtauIb3"
      },
      "outputs": [],
      "source": [
        "import pandas as pd\n",
        "import numpy as np\n",
        "from sklearn.model_selection import train_test_split\n",
        "import torch\n",
        "import torch.nn as nn\n",
        "import torch.optim as optim\n",
        "from torch.utils.data import DataLoader, Dataset\n",
        "import matplotlib.pyplot as plt\n",
        "import pickle\n"
      ]
    },
    {
      "cell_type": "code",
      "source": [
        "# Load datasets\n",
        "user_df = pd.read_csv(\"/content/user.csv\")\n",
        "tourism_df = pd.read_csv(\"/content/tourism_with_id.csv\")\n",
        "rating_df = pd.read_csv(\"/content/tourism_rating.csv\")\n",
        "package_df = pd.read_csv(\"/content/package_tourism.csv\")"
      ],
      "metadata": {
        "id": "SQuprlL_vzSQ"
      },
      "execution_count": 2,
      "outputs": []
    },
    {
      "cell_type": "code",
      "source": [
        "# Display basic info about datasets\n",
        "{\n",
        "    \"user.csv\": user_df.head(),\n",
        "    \"tourism_with_id.csv\": tourism_df.head(),\n",
        "    \"tourism_rating.csv\": rating_df.head(),\n",
        "    \"package_tourism.csv\": package_df.head()\n",
        "}"
      ],
      "metadata": {
        "colab": {
          "base_uri": "https://localhost:8080/"
        },
        "id": "aWd5zs6awxrl",
        "outputId": "b2f73fb4-bfac-44b2-e531-58caaac5c1bd"
      },
      "execution_count": 3,
      "outputs": [
        {
          "output_type": "execute_result",
          "data": {
            "text/plain": [
              "{'user.csv':    User_Id                   Location  Age\n",
              " 0        1      Semarang, Jawa Tengah   20\n",
              " 1        2         Bekasi, Jawa Barat   21\n",
              " 2        3        Cirebon, Jawa Barat   23\n",
              " 3        4         Bekasi, Jawa Barat   21\n",
              " 4        5  Lampung, Sumatera Selatan   20,\n",
              " 'tourism_with_id.csv':    Place_Id                         Place_Name  \\\n",
              " 0         1                   Monumen Nasional   \n",
              " 1         2                           Kota Tua   \n",
              " 2         3                      Dunia Fantasi   \n",
              " 3         4  Taman Mini Indonesia Indah (TMII)   \n",
              " 4         5           Atlantis Water Adventure   \n",
              " \n",
              "                                          Description       Category     City  \\\n",
              " 0  Monumen Nasional atau yang populer disingkat d...         Budaya  Jakarta   \n",
              " 1  Kota tua di Jakarta, yang juga bernama Kota Tu...         Budaya  Jakarta   \n",
              " 2  Dunia Fantasi atau disebut juga Dufan adalah t...  Taman Hiburan  Jakarta   \n",
              " 3  Taman Mini Indonesia Indah merupakan suatu kaw...  Taman Hiburan  Jakarta   \n",
              " 4  Atlantis Water Adventure atau dikenal dengan A...  Taman Hiburan  Jakarta   \n",
              " \n",
              "     Price  Rating  Time_Minutes  \\\n",
              " 0   20000     4.6          15.0   \n",
              " 1       0     4.6          90.0   \n",
              " 2  270000     4.6         360.0   \n",
              " 3   10000     4.5           NaN   \n",
              " 4   94000     4.5          60.0   \n",
              " \n",
              "                                         Coordinate       Lat        Long  \\\n",
              " 0          {'lat': -6.1753924, 'lng': 106.8271528} -6.175392  106.827153   \n",
              " 1  {'lat': -6.137644799999999, 'lng': 106.8171245} -6.137645  106.817125   \n",
              " 2  {'lat': -6.125312399999999, 'lng': 106.8335377} -6.125312  106.833538   \n",
              " 3  {'lat': -6.302445899999999, 'lng': 106.8951559} -6.302446  106.895156   \n",
              " 4             {'lat': -6.12419, 'lng': 106.839134} -6.124190  106.839134   \n",
              " \n",
              "    Unnamed: 11  Unnamed: 12  \n",
              " 0          NaN            1  \n",
              " 1          NaN            2  \n",
              " 2          NaN            3  \n",
              " 3          NaN            4  \n",
              " 4          NaN            5  ,\n",
              " 'tourism_rating.csv':    User_Id  Place_Id  Place_Ratings\n",
              " 0        1       179              3\n",
              " 1        1       344              2\n",
              " 2        1         5              5\n",
              " 3        1       373              3\n",
              " 4        1       101              4,\n",
              " 'package_tourism.csv':    Package     City         Place_Tourism1      Place_Tourism2  \\\n",
              " 0        1  Jakarta      Pasar Tanah Abang        Taman Ayodya   \n",
              " 1        2  Jakarta      Pasar Tanah Abang  Pasar Taman Puring   \n",
              " 2        3  Jakarta  Perpustakaan Nasional               Monas   \n",
              " 3        4  Jakarta           Pulau Tidung      Pulau Bidadari   \n",
              " 4        5  Jakarta  Museum Satria Mandala       Museum Wayang   \n",
              " \n",
              "           Place_Tourism3                                     Place_Tourism4  \\\n",
              " 0         Museum Tekstil                                                NaN   \n",
              " 1   Pasar Petak Sembilan                                                NaN   \n",
              " 2        Masjid Istiqlal                                                NaN   \n",
              " 3             Pulau Pari                                      Pulau Pramuka   \n",
              " 4  Museum Bahari Jakarta  Museum Macan (Modern and Contemporary Art in N...   \n",
              " \n",
              "   Place_Tourism5  \n",
              " 0            NaN  \n",
              " 1            NaN  \n",
              " 2            NaN  \n",
              " 3  Pulau Pelangi  \n",
              " 4            NaN  }"
            ]
          },
          "metadata": {},
          "execution_count": 3
        }
      ]
    },
    {
      "cell_type": "code",
      "source": [
        "# Drop NaN values from rating dataset\n",
        "rating_df.dropna(inplace=True)"
      ],
      "metadata": {
        "id": "H0PVJ8qc4A5Z"
      },
      "execution_count": 4,
      "outputs": []
    },
    {
      "cell_type": "code",
      "source": [
        "# Ensure data types are correct\n",
        "rating_df['User_Id'] = rating_df['User_Id'].astype(int)\n",
        "rating_df['Place_Id'] = rating_df['Place_Id'].astype(int)\n",
        "rating_df['Place_Ratings'] = rating_df['Place_Ratings'].astype(int)"
      ],
      "metadata": {
        "id": "wmFkoRPjbEoT"
      },
      "execution_count": 5,
      "outputs": []
    },
    {
      "cell_type": "code",
      "source": [
        "# Encode User_Id and Place_Id to be continuous indices\n",
        "unique_users = rating_df['User_Id'].unique()\n",
        "unique_places = rating_df['Place_Id'].unique()"
      ],
      "metadata": {
        "id": "uS21Y9yUbGCC"
      },
      "execution_count": 6,
      "outputs": []
    },
    {
      "cell_type": "code",
      "source": [
        "user_to_index = {user_id: i for i, user_id in enumerate(unique_users)}\n",
        "place_to_index = {place_id: i for i, place_id in enumerate(unique_places)}"
      ],
      "metadata": {
        "id": "oWBe2FHmbM4k"
      },
      "execution_count": 7,
      "outputs": []
    },
    {
      "cell_type": "code",
      "source": [
        "rating_df['user_idx'] = rating_df['User_Id'].map(user_to_index)\n",
        "rating_df['place_idx'] = rating_df['Place_Id'].map(place_to_index)"
      ],
      "metadata": {
        "id": "XliTaYGpbPHN"
      },
      "execution_count": 8,
      "outputs": []
    },
    {
      "cell_type": "code",
      "source": [
        "# Split into training and test set (80-20 split)\n",
        "train_df, test_df = train_test_split(rating_df, test_size=0.2, random_state=42)\n"
      ],
      "metadata": {
        "id": "PV-OEmRObQmt"
      },
      "execution_count": 9,
      "outputs": []
    },
    {
      "cell_type": "code",
      "source": [
        "# Summary of processed data\n",
        "train_df.head()"
      ],
      "metadata": {
        "colab": {
          "base_uri": "https://localhost:8080/",
          "height": 206
        },
        "id": "v7dNOlpQbSUH",
        "outputId": "8c32dc08-1748-469c-897c-6d0c0ab39654"
      },
      "execution_count": 10,
      "outputs": [
        {
          "output_type": "execute_result",
          "data": {
            "text/plain": [
              "      User_Id  Place_Id  Place_Ratings  user_idx  place_idx\n",
              "9254      278       262              3       277         54\n",
              "1561       49       251              2        48        359\n",
              "1670       52        52              2        51        235\n",
              "6087      183       385              1       182        139\n",
              "6669      200       258              5       199          6"
            ],
            "text/html": [
              "\n",
              "  <div id=\"df-9b3fadbc-c5a3-491a-ae2d-25b6e4e21bbc\" class=\"colab-df-container\">\n",
              "    <div>\n",
              "<style scoped>\n",
              "    .dataframe tbody tr th:only-of-type {\n",
              "        vertical-align: middle;\n",
              "    }\n",
              "\n",
              "    .dataframe tbody tr th {\n",
              "        vertical-align: top;\n",
              "    }\n",
              "\n",
              "    .dataframe thead th {\n",
              "        text-align: right;\n",
              "    }\n",
              "</style>\n",
              "<table border=\"1\" class=\"dataframe\">\n",
              "  <thead>\n",
              "    <tr style=\"text-align: right;\">\n",
              "      <th></th>\n",
              "      <th>User_Id</th>\n",
              "      <th>Place_Id</th>\n",
              "      <th>Place_Ratings</th>\n",
              "      <th>user_idx</th>\n",
              "      <th>place_idx</th>\n",
              "    </tr>\n",
              "  </thead>\n",
              "  <tbody>\n",
              "    <tr>\n",
              "      <th>9254</th>\n",
              "      <td>278</td>\n",
              "      <td>262</td>\n",
              "      <td>3</td>\n",
              "      <td>277</td>\n",
              "      <td>54</td>\n",
              "    </tr>\n",
              "    <tr>\n",
              "      <th>1561</th>\n",
              "      <td>49</td>\n",
              "      <td>251</td>\n",
              "      <td>2</td>\n",
              "      <td>48</td>\n",
              "      <td>359</td>\n",
              "    </tr>\n",
              "    <tr>\n",
              "      <th>1670</th>\n",
              "      <td>52</td>\n",
              "      <td>52</td>\n",
              "      <td>2</td>\n",
              "      <td>51</td>\n",
              "      <td>235</td>\n",
              "    </tr>\n",
              "    <tr>\n",
              "      <th>6087</th>\n",
              "      <td>183</td>\n",
              "      <td>385</td>\n",
              "      <td>1</td>\n",
              "      <td>182</td>\n",
              "      <td>139</td>\n",
              "    </tr>\n",
              "    <tr>\n",
              "      <th>6669</th>\n",
              "      <td>200</td>\n",
              "      <td>258</td>\n",
              "      <td>5</td>\n",
              "      <td>199</td>\n",
              "      <td>6</td>\n",
              "    </tr>\n",
              "  </tbody>\n",
              "</table>\n",
              "</div>\n",
              "    <div class=\"colab-df-buttons\">\n",
              "\n",
              "  <div class=\"colab-df-container\">\n",
              "    <button class=\"colab-df-convert\" onclick=\"convertToInteractive('df-9b3fadbc-c5a3-491a-ae2d-25b6e4e21bbc')\"\n",
              "            title=\"Convert this dataframe to an interactive table.\"\n",
              "            style=\"display:none;\">\n",
              "\n",
              "  <svg xmlns=\"http://www.w3.org/2000/svg\" height=\"24px\" viewBox=\"0 -960 960 960\">\n",
              "    <path d=\"M120-120v-720h720v720H120Zm60-500h600v-160H180v160Zm220 220h160v-160H400v160Zm0 220h160v-160H400v160ZM180-400h160v-160H180v160Zm440 0h160v-160H620v160ZM180-180h160v-160H180v160Zm440 0h160v-160H620v160Z\"/>\n",
              "  </svg>\n",
              "    </button>\n",
              "\n",
              "  <style>\n",
              "    .colab-df-container {\n",
              "      display:flex;\n",
              "      gap: 12px;\n",
              "    }\n",
              "\n",
              "    .colab-df-convert {\n",
              "      background-color: #E8F0FE;\n",
              "      border: none;\n",
              "      border-radius: 50%;\n",
              "      cursor: pointer;\n",
              "      display: none;\n",
              "      fill: #1967D2;\n",
              "      height: 32px;\n",
              "      padding: 0 0 0 0;\n",
              "      width: 32px;\n",
              "    }\n",
              "\n",
              "    .colab-df-convert:hover {\n",
              "      background-color: #E2EBFA;\n",
              "      box-shadow: 0px 1px 2px rgba(60, 64, 67, 0.3), 0px 1px 3px 1px rgba(60, 64, 67, 0.15);\n",
              "      fill: #174EA6;\n",
              "    }\n",
              "\n",
              "    .colab-df-buttons div {\n",
              "      margin-bottom: 4px;\n",
              "    }\n",
              "\n",
              "    [theme=dark] .colab-df-convert {\n",
              "      background-color: #3B4455;\n",
              "      fill: #D2E3FC;\n",
              "    }\n",
              "\n",
              "    [theme=dark] .colab-df-convert:hover {\n",
              "      background-color: #434B5C;\n",
              "      box-shadow: 0px 1px 3px 1px rgba(0, 0, 0, 0.15);\n",
              "      filter: drop-shadow(0px 1px 2px rgba(0, 0, 0, 0.3));\n",
              "      fill: #FFFFFF;\n",
              "    }\n",
              "  </style>\n",
              "\n",
              "    <script>\n",
              "      const buttonEl =\n",
              "        document.querySelector('#df-9b3fadbc-c5a3-491a-ae2d-25b6e4e21bbc button.colab-df-convert');\n",
              "      buttonEl.style.display =\n",
              "        google.colab.kernel.accessAllowed ? 'block' : 'none';\n",
              "\n",
              "      async function convertToInteractive(key) {\n",
              "        const element = document.querySelector('#df-9b3fadbc-c5a3-491a-ae2d-25b6e4e21bbc');\n",
              "        const dataTable =\n",
              "          await google.colab.kernel.invokeFunction('convertToInteractive',\n",
              "                                                    [key], {});\n",
              "        if (!dataTable) return;\n",
              "\n",
              "        const docLinkHtml = 'Like what you see? Visit the ' +\n",
              "          '<a target=\"_blank\" href=https://colab.research.google.com/notebooks/data_table.ipynb>data table notebook</a>'\n",
              "          + ' to learn more about interactive tables.';\n",
              "        element.innerHTML = '';\n",
              "        dataTable['output_type'] = 'display_data';\n",
              "        await google.colab.output.renderOutput(dataTable, element);\n",
              "        const docLink = document.createElement('div');\n",
              "        docLink.innerHTML = docLinkHtml;\n",
              "        element.appendChild(docLink);\n",
              "      }\n",
              "    </script>\n",
              "  </div>\n",
              "\n",
              "\n",
              "<div id=\"df-37820119-3e1a-449f-8913-f626ede4af09\">\n",
              "  <button class=\"colab-df-quickchart\" onclick=\"quickchart('df-37820119-3e1a-449f-8913-f626ede4af09')\"\n",
              "            title=\"Suggest charts\"\n",
              "            style=\"display:none;\">\n",
              "\n",
              "<svg xmlns=\"http://www.w3.org/2000/svg\" height=\"24px\"viewBox=\"0 0 24 24\"\n",
              "     width=\"24px\">\n",
              "    <g>\n",
              "        <path d=\"M19 3H5c-1.1 0-2 .9-2 2v14c0 1.1.9 2 2 2h14c1.1 0 2-.9 2-2V5c0-1.1-.9-2-2-2zM9 17H7v-7h2v7zm4 0h-2V7h2v10zm4 0h-2v-4h2v4z\"/>\n",
              "    </g>\n",
              "</svg>\n",
              "  </button>\n",
              "\n",
              "<style>\n",
              "  .colab-df-quickchart {\n",
              "      --bg-color: #E8F0FE;\n",
              "      --fill-color: #1967D2;\n",
              "      --hover-bg-color: #E2EBFA;\n",
              "      --hover-fill-color: #174EA6;\n",
              "      --disabled-fill-color: #AAA;\n",
              "      --disabled-bg-color: #DDD;\n",
              "  }\n",
              "\n",
              "  [theme=dark] .colab-df-quickchart {\n",
              "      --bg-color: #3B4455;\n",
              "      --fill-color: #D2E3FC;\n",
              "      --hover-bg-color: #434B5C;\n",
              "      --hover-fill-color: #FFFFFF;\n",
              "      --disabled-bg-color: #3B4455;\n",
              "      --disabled-fill-color: #666;\n",
              "  }\n",
              "\n",
              "  .colab-df-quickchart {\n",
              "    background-color: var(--bg-color);\n",
              "    border: none;\n",
              "    border-radius: 50%;\n",
              "    cursor: pointer;\n",
              "    display: none;\n",
              "    fill: var(--fill-color);\n",
              "    height: 32px;\n",
              "    padding: 0;\n",
              "    width: 32px;\n",
              "  }\n",
              "\n",
              "  .colab-df-quickchart:hover {\n",
              "    background-color: var(--hover-bg-color);\n",
              "    box-shadow: 0 1px 2px rgba(60, 64, 67, 0.3), 0 1px 3px 1px rgba(60, 64, 67, 0.15);\n",
              "    fill: var(--button-hover-fill-color);\n",
              "  }\n",
              "\n",
              "  .colab-df-quickchart-complete:disabled,\n",
              "  .colab-df-quickchart-complete:disabled:hover {\n",
              "    background-color: var(--disabled-bg-color);\n",
              "    fill: var(--disabled-fill-color);\n",
              "    box-shadow: none;\n",
              "  }\n",
              "\n",
              "  .colab-df-spinner {\n",
              "    border: 2px solid var(--fill-color);\n",
              "    border-color: transparent;\n",
              "    border-bottom-color: var(--fill-color);\n",
              "    animation:\n",
              "      spin 1s steps(1) infinite;\n",
              "  }\n",
              "\n",
              "  @keyframes spin {\n",
              "    0% {\n",
              "      border-color: transparent;\n",
              "      border-bottom-color: var(--fill-color);\n",
              "      border-left-color: var(--fill-color);\n",
              "    }\n",
              "    20% {\n",
              "      border-color: transparent;\n",
              "      border-left-color: var(--fill-color);\n",
              "      border-top-color: var(--fill-color);\n",
              "    }\n",
              "    30% {\n",
              "      border-color: transparent;\n",
              "      border-left-color: var(--fill-color);\n",
              "      border-top-color: var(--fill-color);\n",
              "      border-right-color: var(--fill-color);\n",
              "    }\n",
              "    40% {\n",
              "      border-color: transparent;\n",
              "      border-right-color: var(--fill-color);\n",
              "      border-top-color: var(--fill-color);\n",
              "    }\n",
              "    60% {\n",
              "      border-color: transparent;\n",
              "      border-right-color: var(--fill-color);\n",
              "    }\n",
              "    80% {\n",
              "      border-color: transparent;\n",
              "      border-right-color: var(--fill-color);\n",
              "      border-bottom-color: var(--fill-color);\n",
              "    }\n",
              "    90% {\n",
              "      border-color: transparent;\n",
              "      border-bottom-color: var(--fill-color);\n",
              "    }\n",
              "  }\n",
              "</style>\n",
              "\n",
              "  <script>\n",
              "    async function quickchart(key) {\n",
              "      const quickchartButtonEl =\n",
              "        document.querySelector('#' + key + ' button');\n",
              "      quickchartButtonEl.disabled = true;  // To prevent multiple clicks.\n",
              "      quickchartButtonEl.classList.add('colab-df-spinner');\n",
              "      try {\n",
              "        const charts = await google.colab.kernel.invokeFunction(\n",
              "            'suggestCharts', [key], {});\n",
              "      } catch (error) {\n",
              "        console.error('Error during call to suggestCharts:', error);\n",
              "      }\n",
              "      quickchartButtonEl.classList.remove('colab-df-spinner');\n",
              "      quickchartButtonEl.classList.add('colab-df-quickchart-complete');\n",
              "    }\n",
              "    (() => {\n",
              "      let quickchartButtonEl =\n",
              "        document.querySelector('#df-37820119-3e1a-449f-8913-f626ede4af09 button');\n",
              "      quickchartButtonEl.style.display =\n",
              "        google.colab.kernel.accessAllowed ? 'block' : 'none';\n",
              "    })();\n",
              "  </script>\n",
              "</div>\n",
              "\n",
              "    </div>\n",
              "  </div>\n"
            ],
            "application/vnd.google.colaboratory.intrinsic+json": {
              "type": "dataframe",
              "variable_name": "train_df",
              "summary": "{\n  \"name\": \"train_df\",\n  \"rows\": 8000,\n  \"fields\": [\n    {\n      \"column\": \"User_Id\",\n      \"properties\": {\n        \"dtype\": \"number\",\n        \"std\": 86,\n        \"min\": 1,\n        \"max\": 300,\n        \"num_unique_values\": 300,\n        \"samples\": [\n          152,\n          120,\n          132\n        ],\n        \"semantic_type\": \"\",\n        \"description\": \"\"\n      }\n    },\n    {\n      \"column\": \"Place_Id\",\n      \"properties\": {\n        \"dtype\": \"number\",\n        \"std\": 126,\n        \"min\": 1,\n        \"max\": 437,\n        \"num_unique_values\": 437,\n        \"samples\": [\n          278,\n          261,\n          88\n        ],\n        \"semantic_type\": \"\",\n        \"description\": \"\"\n      }\n    },\n    {\n      \"column\": \"Place_Ratings\",\n      \"properties\": {\n        \"dtype\": \"number\",\n        \"std\": 1,\n        \"min\": 1,\n        \"max\": 5,\n        \"num_unique_values\": 5,\n        \"samples\": [\n          2,\n          4,\n          1\n        ],\n        \"semantic_type\": \"\",\n        \"description\": \"\"\n      }\n    },\n    {\n      \"column\": \"user_idx\",\n      \"properties\": {\n        \"dtype\": \"number\",\n        \"std\": 86,\n        \"min\": 0,\n        \"max\": 299,\n        \"num_unique_values\": 300,\n        \"samples\": [\n          151,\n          119,\n          131\n        ],\n        \"semantic_type\": \"\",\n        \"description\": \"\"\n      }\n    },\n    {\n      \"column\": \"place_idx\",\n      \"properties\": {\n        \"dtype\": \"number\",\n        \"std\": 125,\n        \"min\": 0,\n        \"max\": 436,\n        \"num_unique_values\": 437,\n        \"samples\": [\n          320,\n          301,\n          88\n        ],\n        \"semantic_type\": \"\",\n        \"description\": \"\"\n      }\n    }\n  ]\n}"
            }
          },
          "metadata": {},
          "execution_count": 10
        }
      ]
    },
    {
      "cell_type": "code",
      "source": [
        "# Define Dataset\n",
        "class TourismDataset(Dataset):\n",
        "    def __init__(self, df):\n",
        "        self.users = torch.tensor(df['user_idx'].values, dtype=torch.long)\n",
        "        self.places = torch.tensor(df['place_idx'].values, dtype=torch.long)\n",
        "        self.ratings = torch.tensor(df['Place_Ratings'].values, dtype=torch.float32)\n",
        "\n",
        "    def __len__(self):\n",
        "        return len(self.ratings)\n",
        "\n",
        "    def __getitem__(self, idx):\n",
        "        return self.users[idx], self.places[idx], self.ratings[idx]\n"
      ],
      "metadata": {
        "id": "tvoB3bSsbcfK"
      },
      "execution_count": 11,
      "outputs": []
    },
    {
      "cell_type": "code",
      "source": [
        "# Define Transformer-based Model\n",
        "class TransformerRecommender(nn.Module):\n",
        "    def __init__(self, num_users, num_places, embed_dim=64, num_heads=4, num_layers=2):\n",
        "        super(TransformerRecommender, self).__init__()\n",
        "        self.user_embedding = nn.Embedding(num_users, embed_dim)\n",
        "        self.place_embedding = nn.Embedding(num_places, embed_dim)\n",
        "        self.transformer = nn.TransformerEncoder(\n",
        "            nn.TransformerEncoderLayer(d_model=embed_dim, nhead=num_heads),\n",
        "            num_layers=num_layers\n",
        "        )\n",
        "        self.fc = nn.Linear(embed_dim, 1)\n",
        "\n",
        "    def forward(self, user_ids, place_ids):\n",
        "        user_emb = self.user_embedding(user_ids)\n",
        "        place_emb = self.place_embedding(place_ids)\n",
        "        interaction = user_emb + place_emb\n",
        "        transformed = self.transformer(interaction.unsqueeze(0)).squeeze(0)\n",
        "        return self.fc(transformed).squeeze()"
      ],
      "metadata": {
        "id": "C9I8_VsdcGCg"
      },
      "execution_count": 12,
      "outputs": []
    },
    {
      "cell_type": "code",
      "source": [
        "# Prepare Dataloader\n",
        "train_dataset = TourismDataset(train_df)\n",
        "test_dataset = TourismDataset(test_df)\n",
        "train_loader = DataLoader(train_dataset, batch_size=32, shuffle=True)\n",
        "test_loader = DataLoader(test_dataset, batch_size=32, shuffle=False)"
      ],
      "metadata": {
        "id": "uNDD6-jgcIzj"
      },
      "execution_count": 13,
      "outputs": []
    },
    {
      "cell_type": "code",
      "source": [
        "# Initialize Model\n",
        "num_users = len(user_to_index)\n",
        "num_places = len(place_to_index)\n",
        "device = torch.device(\"cuda\" if torch.cuda.is_available() else \"cpu\")\n",
        "\n",
        "model = TransformerRecommender(num_users, num_places).to(device)\n",
        "optimizer = optim.Adam(model.parameters(), lr=0.001)\n",
        "criterion = nn.MSELoss()"
      ],
      "metadata": {
        "colab": {
          "base_uri": "https://localhost:8080/"
        },
        "id": "6EXvzUhrcLQA",
        "outputId": "2995acf2-3d67-45ae-f80e-ddef1cc8c8ea"
      },
      "execution_count": 14,
      "outputs": [
        {
          "output_type": "stream",
          "name": "stderr",
          "text": [
            "/usr/local/lib/python3.11/dist-packages/torch/nn/modules/transformer.py:379: UserWarning: enable_nested_tensor is True, but self.use_nested_tensor is False because encoder_layer.self_attn.batch_first was not True(use batch_first for better inference performance)\n",
            "  warnings.warn(\n"
          ]
        }
      ]
    },
    {
      "cell_type": "code",
      "source": [
        "# Training Loop\n",
        "def train_model(model, train_loader, optimizer, criterion, epochs=5):\n",
        "    model.train()\n",
        "    loss_history = []\n",
        "    for epoch in range(epochs):\n",
        "        total_loss = 0\n",
        "        for users, places, ratings in train_loader:\n",
        "            users, places, ratings = users.to(device), places.to(device), ratings.to(device)\n",
        "            optimizer.zero_grad()\n",
        "            predictions = model(users, places)\n",
        "            loss = criterion(predictions, ratings)\n",
        "            loss.backward()\n",
        "            optimizer.step()\n",
        "            total_loss += loss.item()\n",
        "        avg_loss = total_loss / len(train_loader)\n",
        "        loss_history.append(avg_loss)\n",
        "        print(f\"Epoch {epoch+1}/{epochs}, Loss: {avg_loss:.4f}\")\n",
        "    return loss_history"
      ],
      "metadata": {
        "id": "vNOBernocPx3"
      },
      "execution_count": 15,
      "outputs": []
    },
    {
      "cell_type": "code",
      "source": [
        "# Train the model\n",
        "loss_history = train_model(model, train_loader, optimizer, criterion, epochs=30)"
      ],
      "metadata": {
        "colab": {
          "base_uri": "https://localhost:8080/"
        },
        "id": "tkC3nJ7OcTeG",
        "outputId": "3f1020fc-7a8d-4fcb-9dbf-7f1f7533b76e"
      },
      "execution_count": 16,
      "outputs": [
        {
          "output_type": "stream",
          "name": "stdout",
          "text": [
            "Epoch 1/30, Loss: 1.9914\n",
            "Epoch 2/30, Loss: 1.9156\n",
            "Epoch 3/30, Loss: 1.8968\n",
            "Epoch 4/30, Loss: 1.8763\n",
            "Epoch 5/30, Loss: 1.8535\n",
            "Epoch 6/30, Loss: 1.8238\n",
            "Epoch 7/30, Loss: 1.8067\n",
            "Epoch 8/30, Loss: 1.7742\n",
            "Epoch 9/30, Loss: 1.7540\n",
            "Epoch 10/30, Loss: 1.7236\n",
            "Epoch 11/30, Loss: 1.6863\n",
            "Epoch 12/30, Loss: 1.6713\n",
            "Epoch 13/30, Loss: 1.6307\n",
            "Epoch 14/30, Loss: 1.5793\n",
            "Epoch 15/30, Loss: 1.5614\n",
            "Epoch 16/30, Loss: 1.5053\n",
            "Epoch 17/30, Loss: 1.4612\n",
            "Epoch 18/30, Loss: 1.4103\n",
            "Epoch 19/30, Loss: 1.3608\n",
            "Epoch 20/30, Loss: 1.3375\n",
            "Epoch 21/30, Loss: 1.2734\n",
            "Epoch 22/30, Loss: 1.2274\n",
            "Epoch 23/30, Loss: 1.1955\n",
            "Epoch 24/30, Loss: 1.1540\n",
            "Epoch 25/30, Loss: 1.1049\n",
            "Epoch 26/30, Loss: 1.0631\n",
            "Epoch 27/30, Loss: 1.0086\n",
            "Epoch 28/30, Loss: 0.9905\n",
            "Epoch 29/30, Loss: 0.9466\n",
            "Epoch 30/30, Loss: 0.8952\n"
          ]
        }
      ]
    },
    {
      "cell_type": "code",
      "source": [
        "# Save Model as .pkl\n",
        "with open(\"transformer_recommender.pkl\", \"wb\") as f:\n",
        "    pickle.dump(model, f)\n"
      ],
      "metadata": {
        "id": "1TA-Sg4Z3Xpg"
      },
      "execution_count": 21,
      "outputs": []
    },
    {
      "cell_type": "code",
      "source": [
        "# Evaluation Metrics\n",
        "def hit_rate(predictions, ground_truth, top_k=10):\n",
        "    hits = sum([1 if gt in pred[:top_k] else 0 for gt, pred in zip(ground_truth, predictions)])\n",
        "    return hits / len(ground_truth)\n",
        "\n",
        "def ndcg(predictions, ground_truth, top_k=10):\n",
        "    def dcg(rels):\n",
        "        return sum([(2**rel - 1) / np.log2(i + 2) for i, rel in enumerate(rels)])\n",
        "\n",
        "    total_ndcg = 0\n",
        "    for gt, pred in zip(ground_truth, predictions):\n",
        "        ideal = [1 if p == gt else 0 for p in pred[:top_k]]\n",
        "        total_ndcg += dcg(ideal) / dcg(sorted(ideal, reverse=True))\n",
        "    return total_ndcg / len(ground_truth)"
      ],
      "metadata": {
        "id": "UgnQT9i0cu0n"
      },
      "execution_count": 22,
      "outputs": []
    },
    {
      "cell_type": "code",
      "source": [
        "# Inference Function\n",
        "def recommend_places(user_id, model, top_k=10):\n",
        "    user_idx = user_to_index.get(user_id, None)\n",
        "    if user_idx is None:\n",
        "        return []\n",
        "\n",
        "    place_indices = torch.tensor(list(place_to_index.values()), dtype=torch.long).to(device)\n",
        "    user_indices = torch.tensor([user_idx] * len(place_indices), dtype=torch.long).to(device)\n",
        "\n",
        "    model.eval()\n",
        "    with torch.no_grad():\n",
        "        scores = model(user_indices, place_indices)\n",
        "\n",
        "    top_places = torch.argsort(scores, descending=True)[:top_k]\n",
        "    recommended_place_ids = [list(place_to_index.keys())[i] for i in top_places.cpu().numpy()]\n",
        "    return recommended_place_ids\n"
      ],
      "metadata": {
        "id": "ePPID9VDcxgr"
      },
      "execution_count": 23,
      "outputs": []
    },
    {
      "cell_type": "code",
      "source": [
        "plt.plot(range(1, len(loss_history) + 1), loss_history, marker='o', linestyle='-', color='b')\n",
        "plt.xlabel('Epochs')\n",
        "plt.ylabel('Loss')\n",
        "plt.title('Training Loss Over Epochs')\n",
        "plt.grid(True)\n",
        "plt.show()\n"
      ],
      "metadata": {
        "colab": {
          "base_uri": "https://localhost:8080/",
          "height": 472
        },
        "id": "0F1s1_I1dip4",
        "outputId": "2ec56073-599e-4420-a41e-8bb4e507cd6b"
      },
      "execution_count": 24,
      "outputs": [
        {
          "output_type": "display_data",
          "data": {
            "text/plain": [
              "<Figure size 640x480 with 1 Axes>"
            ],
            "image/png": "[encoded data removed]"
          },
          "metadata": {}
        }
      ]
    }
  ]
}